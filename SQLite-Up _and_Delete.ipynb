{
 "cells": [
  {
   "cell_type": "code",
   "execution_count": 1,
   "metadata": {
    "collapsed": true
   },
   "outputs": [],
   "source": [
    "import sqlite3\n",
    "import random\n",
    "import time\n",
    "import datetime\n",
    "\n",
    "\n",
    "#criando uma conexao\n",
    "conn=sqlite3.connect('dsa.db')\n",
    "\n",
    "c=conn.cursor()\n",
    "\n",
    "def create_table():\n",
    "    c.execute('CREATE TABLE IF NOT EXISTS produtos (id INTEGER PRIMARY KEY AUTOINCREMENT NOT NULL, date TEXT, '\\\n",
    "              'prod_name TEXT, valor REAL)' )\n",
    "    \n",
    "#função para inserir uma linha\n",
    "\n",
    "def data_insert():\n",
    "    c.execute(\"INSERT INTO produtos VALUES (10,'2017-02-17 17:35:46', 'Teclado', 90 )\")\n",
    "    conn.commit()\n",
    "    c.close()\n",
    "    conn.close()\n",
    "    \n",
    "# usando variaveis para inserir dados\n",
    "def data_insert_var():\n",
    "    new_date =datetime.datetime.now()\n",
    "    new_prod_name = 'Monitor'\n",
    "    new_valor = random.randrange(50, 100)\n",
    "    c.execute(\"INSERT INTO produtos (date, prod_name, valor) VALUES (?, ?, ?)\", \n",
    "             (new_date, new_prod_name, new_valor))\n",
    "    conn.commit()\n",
    "    \n",
    "    #leitura de dados    \n",
    "def leitura_todos_dados():\n",
    "    c.execute(\"SELECT * FROM PRODUTOS\")\n",
    "    for linha in c.fetchall():\n",
    "        print(linha)\n",
    "    \n",
    "#leitura de registros específicos    \n",
    "def leitura_registros():\n",
    "    c.execute(\"SELECT * FROM PRODUTOS WHERE valor > 60.0\")\n",
    "    for linha in c.fetchall():\n",
    "        print(linha)\n",
    "        \n",
    "#leitura de colunas específicas\n",
    "def leitura_colunas():\n",
    "    c.execute(\"SELECT * FROM PRODUTOS\")\n",
    "    for linha in c.fetchall():\n",
    "        print(linha[3])\n",
    "\n",
    "def atualiza_dados():\n",
    "    c.execute(\"UPDATE produtos SET valor =70.0 WHERE valor=80.0\")\n",
    "    conn.commit()\n",
    "    \n",
    "def remove_dados():\n",
    "    c.execute(\"DELETE FROM produtos WHERE valor = 55.0\")\n",
    "    conn.commit()\n",
    "    \n",
    "    \n",
    "    "
   ]
  },
  {
   "cell_type": "code",
   "execution_count": 3,
   "metadata": {
    "collapsed": true
   },
   "outputs": [],
   "source": [
    "atualiza_dados()"
   ]
  },
  {
   "cell_type": "code",
   "execution_count": 4,
   "metadata": {
    "collapsed": false
   },
   "outputs": [
    {
     "name": "stdout",
     "output_type": "stream",
     "text": [
      "(10, '2017-02-17 17:35:46', 'Teclado', 90.0)\n",
      "(11, '2017-02-17 17:47:41.782761', 'Monitor', 71.0)\n",
      "(12, '2017-02-17 17:47:42.952364', 'Monitor', 93.0)\n",
      "(13, '2017-02-17 17:47:44.082093', 'Monitor', 93.0)\n",
      "(14, '2017-02-17 17:47:45.201685', 'Monitor', 92.0)\n",
      "(15, '2017-02-17 17:47:46.361924', 'Monitor', 75.0)\n",
      "(16, '2017-02-17 17:47:47.480314', 'Monitor', 76.0)\n",
      "(17, '2017-02-17 17:47:48.601143', 'Monitor', 63.0)\n",
      "(19, '2017-02-17 17:47:50.821610', 'Monitor', 64.0)\n",
      "(20, '2017-02-17 17:47:51.953495', 'Monitor', 75.0)\n"
     ]
    }
   ],
   "source": [
    "leitura_todos_dados()"
   ]
  },
  {
   "cell_type": "code",
   "execution_count": 18,
   "metadata": {
    "collapsed": true
   },
   "outputs": [],
   "source": [
    "remove_dados()"
   ]
  },
  {
   "cell_type": "code",
   "execution_count": 19,
   "metadata": {
    "collapsed": false
   },
   "outputs": [
    {
     "name": "stdout",
     "output_type": "stream",
     "text": [
      "(10, '2017-02-17 17:35:46', 'Teclado', 90.0)\n",
      "(11, '2017-02-17 17:47:41.782761', 'Monitor', 71.0)\n",
      "(12, '2017-02-17 17:47:42.952364', 'Monitor', 93.0)\n",
      "(13, '2017-02-17 17:47:44.082093', 'Monitor', 93.0)\n",
      "(14, '2017-02-17 17:47:45.201685', 'Monitor', 92.0)\n",
      "(15, '2017-02-17 17:47:46.361924', 'Monitor', 75.0)\n",
      "(16, '2017-02-17 17:47:47.480314', 'Monitor', 76.0)\n",
      "(17, '2017-02-17 17:47:48.601143', 'Monitor', 63.0)\n",
      "(19, '2017-02-17 17:47:50.821610', 'Monitor', 64.0)\n",
      "(20, '2017-02-17 17:47:51.953495', 'Monitor', 75.0)\n"
     ]
    }
   ],
   "source": [
    "leitura_todos_dados()"
   ]
  },
  {
   "cell_type": "code",
   "execution_count": null,
   "metadata": {
    "collapsed": true
   },
   "outputs": [],
   "source": []
  }
 ],
 "metadata": {
  "kernelspec": {
   "display_name": "Python 3",
   "language": "python",
   "name": "python3"
  },
  "language_info": {
   "codemirror_mode": {
    "name": "ipython",
    "version": 3
   },
   "file_extension": ".py",
   "mimetype": "text/x-python",
   "name": "python",
   "nbconvert_exporter": "python",
   "pygments_lexer": "ipython3",
   "version": "3.6.0"
  }
 },
 "nbformat": 4,
 "nbformat_minor": 2
}
